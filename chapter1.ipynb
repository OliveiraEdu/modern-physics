{
  "nbformat": 4,
  "nbformat_minor": 0,
  "metadata": {
    "colab": {
      "name": "chapter1.ipynb",
      "provenance": [],
      "collapsed_sections": [],
      "authorship_tag": "ABX9TyOrfgk+WSGcXboMdEdSz3Um",
      "include_colab_link": true
    },
    "kernelspec": {
      "name": "python3",
      "display_name": "Python 3"
    },
    "language_info": {
      "name": "python"
    }
  },
  "cells": [
    {
      "cell_type": "markdown",
      "metadata": {
        "id": "view-in-github",
        "colab_type": "text"
      },
      "source": [
        "<a href=\"https://colab.research.google.com/github/OliveiraEdu/modern-physics/blob/master/chapter1.ipynb\" target=\"_parent\"><img src=\"https://colab.research.google.com/assets/colab-badge.svg\" alt=\"Open In Colab\"/></a>"
      ]
    },
    {
      "cell_type": "markdown",
      "metadata": {
        "id": "rzJat6ureGTC"
      },
      "source": [
        "UFSC - Laboratório de Física Moderna\n",
        "\n",
        "12 de Setembro de 2021\n",
        "\n",
        "Eduardo Oliveira - Polo Itapema\n",
        "\n",
        "Versão Online - Disponíível em:\n",
        "\n",
        "https://colab.research.google.com/drive/1HRS3yDQk8jntCpTzKyJaFPt9ijrxLBgW?usp=sharing\n"
      ]
    },
    {
      "cell_type": "code",
      "metadata": {
        "id": "tY7uBm8-ZvQU"
      },
      "source": [
        "import numpy as np\n",
        "import statistics\n",
        "import math\n",
        "\n",
        "#Chapter 1\n",
        "\n",
        "#constants\n",
        "qe = 1.6E-19 #charge of the electron\n",
        "qp = qe #charge of the proton\n",
        "me = 9.1E-31 #mass of the electron\n",
        "mp = 1.7E-27 #mass of the proton\n",
        "u = 1.67E-27\n",
        "mc = 12*u #mass of the carbon ion\n",
        "mo = 16*u #mass of the oxigen ion\n",
        "c = 3E8 #speed of light\n",
        "b_earth = 10E-4 #Earth's magnetc field"
      ],
      "execution_count": 94,
      "outputs": []
    },
    {
      "cell_type": "code",
      "metadata": {
        "colab": {
          "base_uri": "https://localhost:8080/"
        },
        "id": "zeWeIiZmbzZU",
        "outputId": "043882eb-1fd6-4fbb-b4d9-11a2552a009e"
      },
      "source": [
        "#Ex1\n",
        "ddp = 1E2 #acceleration ddp\n",
        "s = 10E-3 #distance between electrodes\n",
        "\n",
        "ec = qe*ddp #Eq 1.5, kinetic energy\n",
        "\n",
        "print(\"---- Ex1\")\n",
        "print(ec)"
      ],
      "execution_count": 95,
      "outputs": [
        {
          "output_type": "stream",
          "name": "stdout",
          "text": [
            "---- Ex1\n",
            "1.5999999999999998e-17\n"
          ]
        }
      ]
    },
    {
      "cell_type": "code",
      "metadata": {
        "colab": {
          "base_uri": "https://localhost:8080/"
        },
        "id": "rVD3oUvbb4ts",
        "outputId": "fdfc3f95-1986-4722-d80e-9c0c5669a984"
      },
      "source": [
        "#Ex2\n",
        "v = ((2*qe*ddp)/me)**0.5 #Eq 1.5, solving for v (speed)\n",
        "vr = v/c #v relative to the speed of light\n",
        "\n",
        "print(\"---- Ex2\")\n",
        "print(vr)"
      ],
      "execution_count": 96,
      "outputs": [
        {
          "output_type": "stream",
          "name": "stdout",
          "text": [
            "---- Ex2\n",
            "0.019766648444296032\n"
          ]
        }
      ]
    },
    {
      "cell_type": "markdown",
      "metadata": {
        "id": "sChmrHHHerGy"
      },
      "source": [
        "\n",
        "\n",
        "\n",
        "Ex3\n",
        "\n",
        "A energia cinética será,apenas uma função do valor da diferença de potencial entre os dois pontos, independentemente dos detalhes do campo e da trajetória percorrida"
      ]
    },
    {
      "cell_type": "code",
      "metadata": {
        "colab": {
          "base_uri": "https://localhost:8080/"
        },
        "id": "-kOPPLkVcGK5",
        "outputId": "e462ab9b-8c19-4a8c-a84a-fe6688d7cc99"
      },
      "source": [
        "#Ex4\n",
        "ddp = (((c*0.1)**2)*me)/(2*qe) #Eq 1.5, solving for ddp\n",
        "\n",
        "print(\"---- Ex4\")\n",
        "print(ddp)"
      ],
      "execution_count": 97,
      "outputs": [
        {
          "output_type": "stream",
          "name": "stdout",
          "text": [
            "---- Ex4\n",
            "2559.375\n"
          ]
        }
      ]
    },
    {
      "cell_type": "code",
      "metadata": {
        "colab": {
          "base_uri": "https://localhost:8080/"
        },
        "id": "25gv5Y2KcILR",
        "outputId": "4a019a68-a56a-40e9-8b74-fdddee7c4757"
      },
      "source": [
        "#Ex5\n",
        "v = ((2*qp*ddp)/mp)**0.5 #Eq 1.5, solving for v (speed)\n",
        "vr = v/c #v relative to the speed of light\n",
        "\n",
        "print(\"---- Ex5\")\n",
        "print(v)\n",
        "print(vr)"
      ],
      "execution_count": 98,
      "outputs": [
        {
          "output_type": "stream",
          "name": "stdout",
          "text": [
            "---- Ex5\n",
            "694092.7213869578\n",
            "0.0023136424046231925\n"
          ]
        }
      ]
    },
    {
      "cell_type": "code",
      "metadata": {
        "colab": {
          "base_uri": "https://localhost:8080/"
        },
        "id": "uiko4JmvcM0j",
        "outputId": "86465efa-f947-47c0-cb7a-68a9974a8719"
      },
      "source": [
        "#Ex5\n",
        "v = ((2*qp*ddp)/mp)**0.5 #Eq 1.5, solving for v (speed)\n",
        "vr = v/c #v relative to the speed of light\n",
        "\n",
        "print(\"---- Ex5\")\n",
        "print(v)\n",
        "print(vr)"
      ],
      "execution_count": 99,
      "outputs": [
        {
          "output_type": "stream",
          "name": "stdout",
          "text": [
            "---- Ex5\n",
            "694092.7213869578\n",
            "0.0023136424046231925\n"
          ]
        }
      ]
    },
    {
      "cell_type": "code",
      "metadata": {
        "colab": {
          "base_uri": "https://localhost:8080/"
        },
        "id": "TcfDPA6acQKJ",
        "outputId": "25deb3d9-a329-468a-bd0d-f71895f4c377"
      },
      "source": [
        "#Ex7\n",
        "ddp = 100 #acceleration ddp\n",
        "r = (2*ddp/(qp/mp)/b_earth**2)**0.5 #Eq 1.9, solving for radius\n",
        "print(\"---- Ex7\")\n",
        "print(r)"
      ],
      "execution_count": 100,
      "outputs": [
        {
          "output_type": "stream",
          "name": "stdout",
          "text": [
            "---- Ex7\n",
            "1.4577379737113252\n"
          ]
        }
      ]
    },
    {
      "cell_type": "code",
      "metadata": {
        "colab": {
          "base_uri": "https://localhost:8080/"
        },
        "id": "eahqIoVlcVsa",
        "outputId": "934d486b-55f5-43dd-a0b2-512dc07e6cfa"
      },
      "source": [
        "#Ex8a/b\n",
        "ddp = 1000 #acceleration ddp\n",
        "b = 0.1 #magnetic field\n",
        "print(\"---- Ex8a/b\")\n",
        "\n",
        "r = (2*ddp/(qe/mc)/b**2)**0.5 #Eq 1.9, solving for radius\n",
        "print(r)\n",
        "s = math.pi*r #distance\n",
        "print(s)\n",
        "\n",
        "r = (2*ddp/(qe/mo)/b**2)**0.5 #Eq 1.9, solving for radius\n",
        "print(r)\n",
        "s = math.pi*r #distance\n",
        "print(s)"
      ],
      "execution_count": 101,
      "outputs": [
        {
          "output_type": "stream",
          "name": "stdout",
          "text": [
            "---- Ex8a/b\n",
            "0.15827191791344414\n",
            "0.4972258945864429\n",
            "0.18275666882497066\n",
            "0.5741470081750706\n"
          ]
        }
      ]
    },
    {
      "cell_type": "code",
      "metadata": {
        "colab": {
          "base_uri": "https://localhost:8080/"
        },
        "id": "lItJT5DbcWrY",
        "outputId": "4b77024e-634e-4dc2-fdf7-202c95b57c77"
      },
      "source": [
        "#Ex8c\n",
        "ddp = 1000 #acceleratin ddp\n",
        "b = 0.5 #magnetic field\n",
        "print(\"---- Ex8c\")\n",
        "r = (2*ddp/(qe/mc)/b**2)**0.5 #Eq 1.9, solving for radius\n",
        "print(r)\n",
        "s = math.pi*r #distance \n",
        "print(s)\n",
        "\n",
        "r = (2*ddp/(qe/mo)/b**2)**0.5 #Eq 1.9, solving for radius\n",
        "print(r)\n",
        "s = math.pi*r #distance\n",
        "print(s)"
      ],
      "execution_count": 102,
      "outputs": [
        {
          "output_type": "stream",
          "name": "stdout",
          "text": [
            "---- Ex8c\n",
            "0.03165438358268883\n",
            "0.09944517891728859\n",
            "0.036551333764994136\n",
            "0.11482940163501414\n"
          ]
        }
      ]
    },
    {
      "cell_type": "code",
      "metadata": {
        "colab": {
          "base_uri": "https://localhost:8080/"
        },
        "id": "6BDxeTQHcpmm",
        "outputId": "3cd5e162-4f1e-4c20-97c2-22be27604a1d"
      },
      "source": [
        "#Ex9a\n",
        "\n",
        "mi0 = 1.26E-6\n",
        "n = 130 #number of spirals of the coil\n",
        "r = 0.15 #radius of the coil\n",
        "i = 1 #current\n",
        "\n",
        "\n",
        "b = ((4/5)**(3/2)) * (mi0*n*i)/r #Eq. 1.11 - Evaluates the magnetic field\n",
        "print ('---- Ex9a')\n",
        "print (b)"
      ],
      "execution_count": 103,
      "outputs": [
        {
          "output_type": "stream",
          "name": "stdout",
          "text": [
            "---- Ex9a\n",
            "0.0007813715940575267\n"
          ]
        }
      ]
    },
    {
      "cell_type": "code",
      "metadata": {
        "colab": {
          "base_uri": "https://localhost:8080/"
        },
        "id": "wHo3od1gdC2C",
        "outputId": "17d0ea03-138b-4e47-82fb-997e86c8d40a"
      },
      "source": [
        "#Ex9b\n",
        "x = np.array([70, 90, 110, 130]) #Acceleration ddp\n",
        "y = np.array([0.0740, 0.0845, 0.0920, 0.1030])  #diameter of the trajectory\n",
        "z = np.array(y/2) #radius of the trajectory\n",
        "\n",
        "a = []\n",
        "\n",
        "print ('---- Ex9b')\n",
        "\n",
        "for ddp, rt in zip(x,z):\n",
        "    #print (ddp)\n",
        "    #print (rt)\n",
        "    #print (b)\n",
        "    esp_charge = (2*ddp)/((rt**2)*(b**2)) #Eq. 1.10 - Evaluates the specific charge\n",
        "    print (esp_charge)\n",
        "    a.append(esp_charge)\n",
        "    results = np.hstack(a) #list of all results of esp_charge \n",
        "#print (results)"
      ],
      "execution_count": 104,
      "outputs": [
        {
          "output_type": "stream",
          "name": "stdout",
          "text": [
            "---- Ex9b\n",
            "167497893589.36963\n",
            "165159607009.72836\n",
            "170291032916.7106\n",
            "160562326445.74075\n"
          ]
        }
      ]
    },
    {
      "cell_type": "code",
      "metadata": {
        "colab": {
          "base_uri": "https://localhost:8080/"
        },
        "id": "257EwcsAdJoB",
        "outputId": "47bddbc0-2225-418b-ef91-4d53bba77680"
      },
      "source": [
        "#Ex9c\n",
        "\n",
        "print ('---- Ex9c')\n",
        "mean = statistics.mean(results) #evaluates the mean\n",
        "std_dev = statistics.stdev(results) #evaluates the standard deviation from the mean\n",
        "\n",
        "print (mean)\n",
        "print (std_dev)\n"
      ],
      "execution_count": 105,
      "outputs": [
        {
          "output_type": "stream",
          "name": "stdout",
          "text": [
            "---- Ex9c\n",
            "165877714990.38733\n",
            "4117903522.580908\n"
          ]
        }
      ]
    },
    {
      "cell_type": "markdown",
      "metadata": {
        "id": "ilixXcBsr3bP"
      },
      "source": [
        "#Ex 10\n",
        "\n",
        "V\n",
        "X = 70    90   110   130\n",
        "\n",
        "R\n",
        "Y =  0.074000   0.084500   0.092000   0.103000\n",
        "\n",
        "Log V\n",
        "\n",
        "X1 =  4.2485   4.4998   4.7005   4.8675\n",
        "\n",
        "Log R\n",
        "\n",
        "Y1 = -2.6037  -2.4710  -2.3860  -2.2730\n",
        "\n",
        "MAPE2 = 3.3372e-03\n",
        "\n",
        "RMSE2 = 9.6095e-03\n",
        "\n",
        "rsq2 = 0.9937\n",
        "\n",
        "rsq_adj2 = 0.9905\n",
        "\n",
        "\n",
        "Função Linear y = -4.820287 + 0.521254x\n",
        "![Screenshot from 2021-09-12 22-10-46.png](data:image/png;base64,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)\n"
      ]
    },
    {
      "cell_type": "code",
      "metadata": {
        "colab": {
          "base_uri": "https://localhost:8080/"
        },
        "id": "pXiDwvI4t8bf",
        "outputId": "532d135c-2011-4dac-b8d4-3af394c62c92"
      },
      "source": [
        "#Ex11\n",
        "\n",
        "a = 4.820287\n",
        "\n",
        "em = 2/((10**(2*a))*(b**2)) #Eq. 1.9 - specific charge e/m\n",
        "\n",
        "print (em)\n"
      ],
      "execution_count": 106,
      "outputs": [
        {
          "output_type": "stream",
          "name": "stdout",
          "text": [
            "0.0007494467108983333\n"
          ]
        }
      ]
    }
  ]
}